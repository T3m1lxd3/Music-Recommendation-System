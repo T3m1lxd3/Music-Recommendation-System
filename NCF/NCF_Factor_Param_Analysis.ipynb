{
 "cells": [
  {
   "cell_type": "markdown",
   "metadata": {},
   "source": [
    "### 1. Imports"
   ]
  },
  {
   "cell_type": "code",
   "execution_count": 8,
   "metadata": {},
   "outputs": [
    {
     "name": "stdout",
     "output_type": "stream",
     "text": [
      "System version: 3.9.18 (main, Sep 11 2023, 08:25:10) \n",
      "[Clang 14.0.6 ]\n",
      "Pandas version: 1.5.3\n",
      "Tensorflow version: 2.15.0\n"
     ]
    }
   ],
   "source": [
    "import os\n",
    "import sys\n",
    "import shutil\n",
    "import numpy as np\n",
    "import pandas as pd\n",
    "\n",
    "import tensorflow as tf\n",
    "\n",
    "\n",
    "import itertools\n",
    "import warnings\n",
    "import seaborn as sns\n",
    "import matplotlib.pyplot as plt\n",
    "\n",
    "# Filter out UserWarning from specific module\n",
    "warnings.filterwarnings(\"ignore\", message=\"`layer.apply` is deprecated\", category=UserWarning)\n",
    "\n",
    "\n",
    "#tf.get_logger().setLevel('ERROR') # only show error messages\n",
    "\n",
    "from recommenders.utils.timer import Timer\n",
    "from recommenders.models.ncf.ncf_singlenode import NCF\n",
    "from recommenders.models.ncf.dataset import Dataset as NCFDataset\n",
    "from recommenders.datasets import movielens\n",
    "from recommenders.datasets.python_splitters import python_chrono_split\n",
    "from recommenders.evaluation.python_evaluation import (map, ndcg_at_k, precision_at_k, recall_at_k)\n",
    "from recommenders.utils.constants import SEED as DEFAULT_SEED\n",
    "#from recommenders.utils.notebook_utils import store_metadata\n",
    "\n",
    "print(\"System version: {}\".format(sys.version))\n",
    "print(\"Pandas version: {}\".format(pd.__version__))\n",
    "print(\"Tensorflow version: {}\".format(tf.__version__))\n",
    "\n",
    "from sklearn.model_selection import train_test_split"
   ]
  },
  {
   "cell_type": "markdown",
   "metadata": {},
   "source": [
    "### 2. Setting Up Parameters"
   ]
  },
  {
   "cell_type": "code",
   "execution_count": 9,
   "metadata": {},
   "outputs": [],
   "source": [
    "# top k items to recommend\n",
    "TOP_K = 10\n",
    "\n",
    "# Select  data size: 100k, 1m, 10m, or 20m\n",
    "DATA_SIZE = 100000\n",
    "\n",
    "# Model parameters\n",
    "EPOCHS = 100 # ! Changed from 100 because it was taking forever\n",
    "BATCH_SIZE = 256\n",
    "\n",
    "SEED = DEFAULT_SEED  # Set None for non-deterministic results"
   ]
  },
  {
   "cell_type": "markdown",
   "metadata": {},
   "source": [
    "### 3. Loading Dataframe\n"
   ]
  },
  {
   "cell_type": "code",
   "execution_count": 10,
   "metadata": {},
   "outputs": [],
   "source": [
    "# * Load & Set Up Dataframe\n",
    "original_dataframe = pd.read_csv('spotify_songs.csv')\n",
    "CF_DF = original_dataframe"
   ]
  },
  {
   "cell_type": "code",
   "execution_count": 11,
   "metadata": {},
   "outputs": [],
   "source": [
    "# Create Random Input Playlist of 10 Songs\n",
    "input_samples = CF_DF.sample(n=10)\n",
    "input_samples.to_csv('input.csv', index=False)"
   ]
  },
  {
   "cell_type": "code",
   "execution_count": 12,
   "metadata": {},
   "outputs": [
    {
     "data": {
      "text/html": [
       "<div>\n",
       "<style scoped>\n",
       "    .dataframe tbody tr th:only-of-type {\n",
       "        vertical-align: middle;\n",
       "    }\n",
       "\n",
       "    .dataframe tbody tr th {\n",
       "        vertical-align: top;\n",
       "    }\n",
       "\n",
       "    .dataframe thead th {\n",
       "        text-align: right;\n",
       "    }\n",
       "</style>\n",
       "<table border=\"1\" class=\"dataframe\">\n",
       "  <thead>\n",
       "    <tr style=\"text-align: right;\">\n",
       "      <th></th>\n",
       "      <th>playlist_id</th>\n",
       "      <th>track_id</th>\n",
       "    </tr>\n",
       "  </thead>\n",
       "  <tbody>\n",
       "    <tr>\n",
       "      <th>32833</th>\n",
       "      <td>input_playlist</td>\n",
       "      <td>0DIIKoJoDnY1TKvrTQPck8</td>\n",
       "    </tr>\n",
       "    <tr>\n",
       "      <th>32834</th>\n",
       "      <td>input_playlist</td>\n",
       "      <td>0FNtBIL5lHcn7pLV7P6TGv</td>\n",
       "    </tr>\n",
       "    <tr>\n",
       "      <th>32835</th>\n",
       "      <td>input_playlist</td>\n",
       "      <td>05QSh6nyG3AEBVUTrJPgIk</td>\n",
       "    </tr>\n",
       "    <tr>\n",
       "      <th>32836</th>\n",
       "      <td>input_playlist</td>\n",
       "      <td>2gpEHrWOXBpeAIGORiBWw5</td>\n",
       "    </tr>\n",
       "    <tr>\n",
       "      <th>32837</th>\n",
       "      <td>input_playlist</td>\n",
       "      <td>5skLVBXJf3VbnauZUI29pK</td>\n",
       "    </tr>\n",
       "    <tr>\n",
       "      <th>32838</th>\n",
       "      <td>input_playlist</td>\n",
       "      <td>2zgdBHyyjJXmFwQyCRgBlJ</td>\n",
       "    </tr>\n",
       "    <tr>\n",
       "      <th>32839</th>\n",
       "      <td>input_playlist</td>\n",
       "      <td>1f1QPwS422JMbg2aRW66bw</td>\n",
       "    </tr>\n",
       "    <tr>\n",
       "      <th>32840</th>\n",
       "      <td>input_playlist</td>\n",
       "      <td>4t8bZ8dxZtatpjOpBrAnUW</td>\n",
       "    </tr>\n",
       "    <tr>\n",
       "      <th>32841</th>\n",
       "      <td>input_playlist</td>\n",
       "      <td>4m0q0xQ2BNl9SCAGKyfiGZ</td>\n",
       "    </tr>\n",
       "    <tr>\n",
       "      <th>32842</th>\n",
       "      <td>input_playlist</td>\n",
       "      <td>2NEjPjHPuTjUqQ8MoIWi0Z</td>\n",
       "    </tr>\n",
       "  </tbody>\n",
       "</table>\n",
       "</div>"
      ],
      "text/plain": [
       "          playlist_id                track_id\n",
       "32833  input_playlist  0DIIKoJoDnY1TKvrTQPck8\n",
       "32834  input_playlist  0FNtBIL5lHcn7pLV7P6TGv\n",
       "32835  input_playlist  05QSh6nyG3AEBVUTrJPgIk\n",
       "32836  input_playlist  2gpEHrWOXBpeAIGORiBWw5\n",
       "32837  input_playlist  5skLVBXJf3VbnauZUI29pK\n",
       "32838  input_playlist  2zgdBHyyjJXmFwQyCRgBlJ\n",
       "32839  input_playlist  1f1QPwS422JMbg2aRW66bw\n",
       "32840  input_playlist  4t8bZ8dxZtatpjOpBrAnUW\n",
       "32841  input_playlist  4m0q0xQ2BNl9SCAGKyfiGZ\n",
       "32842  input_playlist  2NEjPjHPuTjUqQ8MoIWi0Z"
      ]
     },
     "execution_count": 12,
     "metadata": {},
     "output_type": "execute_result"
    }
   ],
   "source": [
    "# Adding InputPlaylist to Dataframe\n",
    "inputPlaylist = pd.read_csv('input.csv')\n",
    "inputPlaylist['playlist_id'] = 'input_playlist'\n",
    "inputPlaylist['playlist_name'] = 'input_playlist'\n",
    "\n",
    "CF_DF = pd.concat([CF_DF, inputPlaylist], ignore_index=True)\n",
    "df = CF_DF[['playlist_id', 'track_id']]\n",
    "\n",
    "df.tail(10)"
   ]
  },
  {
   "cell_type": "code",
   "execution_count": 13,
   "metadata": {},
   "outputs": [
    {
     "name": "stdout",
     "output_type": "stream",
     "text": [
      "10000\n"
     ]
    },
    {
     "data": {
      "text/html": [
       "<div>\n",
       "<style scoped>\n",
       "    .dataframe tbody tr th:only-of-type {\n",
       "        vertical-align: middle;\n",
       "    }\n",
       "\n",
       "    .dataframe tbody tr th {\n",
       "        vertical-align: top;\n",
       "    }\n",
       "\n",
       "    .dataframe thead th {\n",
       "        text-align: right;\n",
       "    }\n",
       "</style>\n",
       "<table border=\"1\" class=\"dataframe\">\n",
       "  <thead>\n",
       "    <tr style=\"text-align: right;\">\n",
       "      <th></th>\n",
       "      <th>userID</th>\n",
       "      <th>itemID</th>\n",
       "      <th>rating</th>\n",
       "    </tr>\n",
       "  </thead>\n",
       "  <tbody>\n",
       "    <tr>\n",
       "      <th>9990</th>\n",
       "      <td>471</td>\n",
       "      <td>8413</td>\n",
       "      <td>0</td>\n",
       "    </tr>\n",
       "    <tr>\n",
       "      <th>9991</th>\n",
       "      <td>471</td>\n",
       "      <td>8414</td>\n",
       "      <td>0</td>\n",
       "    </tr>\n",
       "    <tr>\n",
       "      <th>9992</th>\n",
       "      <td>471</td>\n",
       "      <td>8415</td>\n",
       "      <td>0</td>\n",
       "    </tr>\n",
       "    <tr>\n",
       "      <th>9993</th>\n",
       "      <td>471</td>\n",
       "      <td>8416</td>\n",
       "      <td>0</td>\n",
       "    </tr>\n",
       "    <tr>\n",
       "      <th>9994</th>\n",
       "      <td>471</td>\n",
       "      <td>5640</td>\n",
       "      <td>0</td>\n",
       "    </tr>\n",
       "    <tr>\n",
       "      <th>9995</th>\n",
       "      <td>471</td>\n",
       "      <td>4340</td>\n",
       "      <td>0</td>\n",
       "    </tr>\n",
       "    <tr>\n",
       "      <th>9996</th>\n",
       "      <td>471</td>\n",
       "      <td>6060</td>\n",
       "      <td>0</td>\n",
       "    </tr>\n",
       "    <tr>\n",
       "      <th>9997</th>\n",
       "      <td>471</td>\n",
       "      <td>2482</td>\n",
       "      <td>0</td>\n",
       "    </tr>\n",
       "    <tr>\n",
       "      <th>9998</th>\n",
       "      <td>471</td>\n",
       "      <td>8417</td>\n",
       "      <td>0</td>\n",
       "    </tr>\n",
       "    <tr>\n",
       "      <th>9999</th>\n",
       "      <td>471</td>\n",
       "      <td>8418</td>\n",
       "      <td>0</td>\n",
       "    </tr>\n",
       "  </tbody>\n",
       "</table>\n",
       "</div>"
      ],
      "text/plain": [
       "      userID  itemID  rating\n",
       "9990     471    8413       0\n",
       "9991     471    8414       0\n",
       "9992     471    8415       0\n",
       "9993     471    8416       0\n",
       "9994     471    5640       0\n",
       "9995     471    4340       0\n",
       "9996     471    6060       0\n",
       "9997     471    2482       0\n",
       "9998     471    8417       0\n",
       "9999     471    8418       0"
      ]
     },
     "execution_count": 13,
     "metadata": {},
     "output_type": "execute_result"
    }
   ],
   "source": [
    "# Create a DataFrame with all possible combinations of playlist_id and track_id\n",
    "unique_playlists = df['playlist_id'].unique()\n",
    "unique_tracks = df['track_id'].unique()\n",
    "\n",
    "# Create a dataframe to store all combinations of playlist and track\n",
    "all_combinations = pd.DataFrame([(playlist_id, track_id) for playlist_id in unique_playlists for track_id in unique_tracks],columns=['playlist_id', 'track_id'])\n",
    "df = df.assign(rating=1)\n",
    "\n",
    "# Merge with the original dataframe to check for existence\n",
    "merged_df = all_combinations.merge(df, on=['playlist_id', 'track_id'], how='left')\n",
    "#merged_df.drop_duplicates(subset=['playlist_id', 'track_id'], keep='first', inplace=True, ignore_index=True)\n",
    "\n",
    "# Replace NaN values with 0 to represent absence of track in playlist\n",
    "merged_df['rating'] = merged_df['rating'].fillna(0).astype(int)\n",
    "\n",
    "# Select relevant columns\n",
    "used_df = merged_df.loc[:, ['playlist_id', 'track_id', 'rating']]\n",
    "\n",
    "# Filter out entries with playlist_id equal to 'input_user'\n",
    "reg_df = used_df[used_df['playlist_id'] != 'input_playlist']\n",
    "input_user_df = used_df[used_df['playlist_id'] == 'input_playlist']\n",
    "input_user_df = input_user_df.sample(n=1000)\n",
    "input_length = len(input_user_df)\n",
    "\n",
    "# Step 2: Sample 10,000 - len(input_playlist) rows from reg_df\n",
    "num_samples = 10000 - input_length\n",
    "sampled_df = reg_df.sample(n=num_samples, replace=False)\n",
    "\n",
    "# Step 3: Add the rows with input_playlist back to reg_df\n",
    "concatenated_df = pd.concat([sampled_df, input_user_df], ignore_index=True)\n",
    "\n",
    "\n",
    "# Factorizing \n",
    "concatenated_df['userID'], og_playlist_id = pd.factorize(concatenated_df['playlist_id'])\n",
    "concatenated_df['itemID'], og_item_id  = pd.factorize(concatenated_df['track_id'])\n",
    "\n",
    "UI_DF = concatenated_df[['userID', 'itemID', 'rating']]\n",
    "\n",
    "#UI_DF.head()\n",
    "print(len(UI_DF))\n",
    "UI_DF.tail(10)"
   ]
  },
  {
   "cell_type": "code",
   "execution_count": 14,
   "metadata": {},
   "outputs": [
    {
     "name": "stdout",
     "output_type": "stream",
     "text": [
      "User Reference Length:  472\n",
      "User Reference Length After Merge:  472\n",
      "Item Reference Length:  8419\n",
      "Item Reference Length After Merge:  8419\n"
     ]
    }
   ],
   "source": [
    "#---USERS---#\n",
    "# Get Playlist Numbers \n",
    "User_Num = concatenated_df[['userID', 'playlist_id']].copy()\n",
    "User_Num.drop_duplicates(subset='userID', inplace=True)\n",
    "print('User Reference Length: ', len(User_Num))\n",
    "\n",
    "# Get Playlist Names \n",
    "User_Name = CF_DF[['playlist_id', 'playlist_name']].copy()\n",
    "User_Name.drop_duplicates(subset='playlist_id', inplace=True)\n",
    "\n",
    "# Merge Playlist Num & Names\n",
    "User_Ref = User_Num.merge(User_Name, how = 'left')\n",
    "print('User Reference Length After Merge: ', len(User_Ref))\n",
    "\n",
    "#---ITEMS---#\n",
    "# Get Item Numbers\n",
    "Item_Num = concatenated_df[['itemID', 'track_id']].copy()\n",
    "Item_Num.drop_duplicates(subset='itemID', inplace=True)\n",
    "print('Item Reference Length: ',len(Item_Num))\n",
    "\n",
    "# Get Item Name & Artist\n",
    "Item_Name_Artist = CF_DF[['track_id', 'track_name', 'track_artist']].copy()\n",
    "Item_Name_Artist.drop_duplicates(subset='track_id', inplace=True)\n",
    "\n",
    "# Merge Item Num & Names/Artists\n",
    "Item_Ref = Item_Num.merge(Item_Name_Artist, how = 'left')\n",
    "print('Item Reference Length After Merge: ',len(Item_Ref))\n"
   ]
  },
  {
   "cell_type": "markdown",
   "metadata": {},
   "source": [
    "### 4. Training & Testing Split"
   ]
  },
  {
   "cell_type": "code",
   "execution_count": 15,
   "metadata": {},
   "outputs": [],
   "source": [
    "#train, test = python_chrono_split(CF_DF, 0.75)\n",
    "train, test = train_test_split(UI_DF, test_size=0.25, random_state=SEED)"
   ]
  },
  {
   "cell_type": "code",
   "execution_count": 16,
   "metadata": {},
   "outputs": [],
   "source": [
    "test = test[test[\"userID\"].isin(train[\"userID\"].unique())]\n",
    "test = test[test[\"itemID\"].isin(train[\"itemID\"].unique())]"
   ]
  },
  {
   "cell_type": "code",
   "execution_count": 17,
   "metadata": {},
   "outputs": [],
   "source": [
    "leave_one_out_test = test.groupby(\"userID\").last().reset_index()"
   ]
  },
  {
   "cell_type": "code",
   "execution_count": 18,
   "metadata": {},
   "outputs": [],
   "source": [
    "train_file = \"./splits/train2.csv\"\n",
    "test_file = \"./splits/test2.csv\"\n",
    "leave_one_out_test_file = \"./splits/leave_one_out_test2.csv\"\n",
    "train = train.sort_values(by='userID')\n",
    "train.to_csv(train_file, index=False)\n",
    "test.to_csv(test_file, index=False)"
   ]
  },
  {
   "cell_type": "code",
   "execution_count": 19,
   "metadata": {},
   "outputs": [],
   "source": [
    "leave_one_out_test.to_csv(leave_one_out_test_file, index=False)"
   ]
  },
  {
   "cell_type": "markdown",
   "metadata": {},
   "source": [
    "### 5. NCF Dataset "
   ]
  },
  {
   "cell_type": "code",
   "execution_count": 20,
   "metadata": {},
   "outputs": [
    {
     "name": "stderr",
     "output_type": "stream",
     "text": [
      "INFO:recommenders.models.ncf.dataset:Indexing ./splits/train2.csv ...\n",
      "INFO:recommenders.models.ncf.dataset:Indexing ./splits/leave_one_out_test2.csv ...\n",
      "INFO:recommenders.models.ncf.dataset:Creating full leave-one-out test file ./splits/leave_one_out_test2_full.csv ...\n",
      "100%|██████████| 304/304 [00:02<00:00, 104.74it/s]\n",
      "INFO:recommenders.models.ncf.dataset:Indexing ./splits/leave_one_out_test2_full.csv ...\n"
     ]
    }
   ],
   "source": [
    "data = NCFDataset(train_file=train_file, test_file=leave_one_out_test_file, seed=SEED, overwrite_test_file_full=True)"
   ]
  },
  {
   "cell_type": "markdown",
   "metadata": {},
   "source": [
    "### 6. Non-Pre Trained"
   ]
  },
  {
   "cell_type": "code",
   "execution_count": 21,
   "metadata": {},
   "outputs": [
    {
     "name": "stdout",
     "output_type": "stream",
     "text": [
      "######################### Factor Num: 3 #########################################\n",
      "---TRAIN---\n"
     ]
    },
    {
     "name": "stderr",
     "output_type": "stream",
     "text": [
      "2024-04-23 22:10:37.709857: I tensorflow/compiler/mlir/mlir_graph_optimization_pass.cc:388] MLIR V1 optimization pass is not enabled\n",
      "INFO:recommenders.models.ncf.ncf_singlenode:Epoch 10 [2.25s]: train_loss = 0.001582 \n",
      "INFO:recommenders.models.ncf.ncf_singlenode:Epoch 20 [1.45s]: train_loss = 0.000305 \n",
      "INFO:recommenders.models.ncf.ncf_singlenode:Epoch 30 [2.27s]: train_loss = 0.000336 \n",
      "INFO:recommenders.models.ncf.ncf_singlenode:Epoch 40 [1.86s]: train_loss = 0.000217 \n",
      "INFO:recommenders.models.ncf.ncf_singlenode:Epoch 50 [1.58s]: train_loss = 0.000157 \n",
      "INFO:recommenders.models.ncf.ncf_singlenode:Epoch 60 [1.15s]: train_loss = 0.000189 \n",
      "INFO:recommenders.models.ncf.ncf_singlenode:Epoch 70 [1.49s]: train_loss = 0.000176 \n",
      "INFO:recommenders.models.ncf.ncf_singlenode:Epoch 80 [1.20s]: train_loss = 0.000150 \n",
      "INFO:recommenders.models.ncf.ncf_singlenode:Epoch 90 [1.22s]: train_loss = 0.000107 \n",
      "INFO:recommenders.models.ncf.ncf_singlenode:Epoch 100 [1.25s]: train_loss = 0.000127 \n"
     ]
    },
    {
     "name": "stdout",
     "output_type": "stream",
     "text": [
      "Took 160.537152084 seconds for training.\n",
      " \n",
      " \n",
      "--- PREDICTIONS ---\n",
      "--- PREDICTIONS FOR INPUT USER ---\n",
      "Top 10 Recommendations For You:\n",
      "\n",
      "1.'Beatiful Day' - Rob Stepwart\n",
      "2.'Sensitivity' - Ralph Tresvant\n",
      "3.'Fortunate Son' - Creedence Clearwater Revival\n",
      "4.'Blah Blah Blah' - Armin van Buuren\n",
      "5.'Friedhof der Kuscheltiere' - Manuellsen\n",
      "6.'Runaway (U & I)' - Galantis\n",
      "7.'Summer Of Love - Ian Carey Radio Remix' - Sunloverz\n",
      "8.'Singular' - Orgânico\n",
      "9.'Squeeze' - Ghostemane\n",
      "10.'Band On The Run - Remastered 2010' - Paul McCartney\n",
      " \n",
      "--- GENERIC EVALUATION ---\n",
      "Took 15.865740625 seconds for prediction.\n",
      "MAP:\t0.000000\n",
      "NDCG:\t0.000000\n",
      "Precision@K:\t0.000000\n",
      "Recall@K:\t0.000000\n",
      " \n",
      "--- LEAVE-ONE-OUT EVALUATION ---\n",
      "HR:\t0.108553\n",
      "NDCG:\t0.075770\n",
      " \n",
      " \n",
      " \n",
      "######################### Factor Num: 6 #########################################\n",
      "---TRAIN---\n"
     ]
    },
    {
     "name": "stderr",
     "output_type": "stream",
     "text": [
      "INFO:recommenders.models.ncf.ncf_singlenode:Epoch 10 [1.26s]: train_loss = 0.001003 \n",
      "INFO:recommenders.models.ncf.ncf_singlenode:Epoch 20 [1.41s]: train_loss = 0.000391 \n",
      "INFO:recommenders.models.ncf.ncf_singlenode:Epoch 30 [1.36s]: train_loss = 0.000114 \n",
      "INFO:recommenders.models.ncf.ncf_singlenode:Epoch 40 [1.30s]: train_loss = 0.000053 \n",
      "INFO:recommenders.models.ncf.ncf_singlenode:Epoch 50 [1.48s]: train_loss = 0.000177 \n",
      "INFO:recommenders.models.ncf.ncf_singlenode:Epoch 60 [2.56s]: train_loss = 0.000116 \n",
      "INFO:recommenders.models.ncf.ncf_singlenode:Epoch 70 [1.47s]: train_loss = 0.000022 \n",
      "INFO:recommenders.models.ncf.ncf_singlenode:Epoch 80 [1.62s]: train_loss = 0.000030 \n",
      "INFO:recommenders.models.ncf.ncf_singlenode:Epoch 90 [1.61s]: train_loss = 0.000023 \n",
      "INFO:recommenders.models.ncf.ncf_singlenode:Epoch 100 [1.39s]: train_loss = 0.000027 \n"
     ]
    },
    {
     "name": "stdout",
     "output_type": "stream",
     "text": [
      "Took 157.70052516700002 seconds for training.\n",
      " \n",
      " \n",
      "--- PREDICTIONS ---\n",
      "--- PREDICTIONS FOR INPUT USER ---\n",
      "Top 10 Recommendations For You:\n",
      "\n",
      "1.'If I Could Turn Back Time' - Cher\n",
      "2.'I Want U' - Loosid\n",
      "3.'Ligaya' - Eraserheads\n",
      "4.'I Wanna Know (feat. Bea Miller)' - NOTD\n",
      "5.'Hold on for Dear Life' - Night Cap\n",
      "6.'Sayonara - Young Bombs Remix / Radio Edit' - Rebecca & Fiona\n",
      "7.'Me llama' - Beret\n",
      "8.'Bésame' - Gian Varela\n",
      "9.'Sunday Morning' - The Velvet Underground\n",
      "10.'El Rito - Remasterizado 2007' - Soda Stereo\n",
      " \n",
      "--- GENERIC EVALUATION ---\n",
      "Took 17.405399832999933 seconds for prediction.\n",
      "MAP:\t0.000329\n",
      "NDCG:\t0.000780\n",
      "Precision@K:\t0.000329\n",
      "Recall@K:\t0.001645\n",
      " \n",
      "--- LEAVE-ONE-OUT EVALUATION ---\n",
      "HR:\t0.101974\n",
      "NDCG:\t0.060786\n",
      " \n",
      " \n",
      " \n",
      "######################### Factor Num: 9 #########################################\n",
      "---TRAIN---\n"
     ]
    },
    {
     "name": "stderr",
     "output_type": "stream",
     "text": [
      "INFO:recommenders.models.ncf.ncf_singlenode:Epoch 10 [1.69s]: train_loss = 0.001583 \n",
      "INFO:recommenders.models.ncf.ncf_singlenode:Epoch 20 [2.33s]: train_loss = 0.000336 \n",
      "INFO:recommenders.models.ncf.ncf_singlenode:Epoch 30 [2.17s]: train_loss = 0.000344 \n",
      "INFO:recommenders.models.ncf.ncf_singlenode:Epoch 40 [1.98s]: train_loss = 0.000269 \n",
      "INFO:recommenders.models.ncf.ncf_singlenode:Epoch 50 [2.67s]: train_loss = 0.000114 \n",
      "INFO:recommenders.models.ncf.ncf_singlenode:Epoch 60 [1.36s]: train_loss = 0.000086 \n",
      "INFO:recommenders.models.ncf.ncf_singlenode:Epoch 70 [1.47s]: train_loss = 0.000379 \n",
      "INFO:recommenders.models.ncf.ncf_singlenode:Epoch 80 [1.33s]: train_loss = 0.000175 \n",
      "INFO:recommenders.models.ncf.ncf_singlenode:Epoch 90 [1.76s]: train_loss = 0.000155 \n",
      "INFO:recommenders.models.ncf.ncf_singlenode:Epoch 100 [1.51s]: train_loss = 0.000130 \n"
     ]
    },
    {
     "name": "stdout",
     "output_type": "stream",
     "text": [
      "Took 195.73918924999998 seconds for training.\n",
      " \n",
      " \n",
      "--- PREDICTIONS ---\n",
      "--- PREDICTIONS FOR INPUT USER ---\n",
      "Top 10 Recommendations For You:\n",
      "\n",
      "1.'Snake Charmer - 1930 Version' - Parov Stelar\n",
      "2.'Hold on for Dear Life' - Night Cap\n",
      "3.'Bad Blood' - Nao\n",
      "4.'Ligaya' - Eraserheads\n",
      "5.'I Wanna Know (feat. Bea Miller)' - NOTD\n",
      "6.'Sunday Morning' - The Velvet Underground\n",
      "7.'Alright - 7\" House Mix With Rap' - Janet Jackson\n",
      "8.'Friedhof der Kuscheltiere' - Manuellsen\n",
      "9.'No Podemos - Remix' - Ele A El Dominio\n",
      "10.'Sayonara - Young Bombs Remix / Radio Edit' - Rebecca & Fiona\n",
      " \n",
      "--- GENERIC EVALUATION ---\n",
      "Took 18.78593187499996 seconds for prediction.\n",
      "MAP:\t0.000183\n",
      "NDCG:\t0.000607\n",
      "Precision@K:\t0.000329\n",
      "Recall@K:\t0.001645\n",
      " \n",
      "--- LEAVE-ONE-OUT EVALUATION ---\n",
      "HR:\t0.078947\n",
      "NDCG:\t0.048247\n",
      " \n",
      " \n",
      " \n",
      "######################### Factor Num: 12 #########################################\n",
      "---TRAIN---\n"
     ]
    },
    {
     "name": "stderr",
     "output_type": "stream",
     "text": [
      "INFO:recommenders.models.ncf.ncf_singlenode:Epoch 10 [1.99s]: train_loss = 0.001087 \n",
      "INFO:recommenders.models.ncf.ncf_singlenode:Epoch 20 [2.06s]: train_loss = 0.000314 \n",
      "INFO:recommenders.models.ncf.ncf_singlenode:Epoch 30 [3.61s]: train_loss = 0.000138 \n",
      "INFO:recommenders.models.ncf.ncf_singlenode:Epoch 40 [1.33s]: train_loss = 0.000097 \n",
      "INFO:recommenders.models.ncf.ncf_singlenode:Epoch 50 [1.17s]: train_loss = 0.000067 \n",
      "INFO:recommenders.models.ncf.ncf_singlenode:Epoch 60 [0.77s]: train_loss = 0.000025 \n",
      "INFO:recommenders.models.ncf.ncf_singlenode:Epoch 70 [1.40s]: train_loss = 0.000012 \n",
      "INFO:recommenders.models.ncf.ncf_singlenode:Epoch 80 [0.73s]: train_loss = 0.000064 \n",
      "INFO:recommenders.models.ncf.ncf_singlenode:Epoch 90 [1.00s]: train_loss = 0.000223 \n",
      "INFO:recommenders.models.ncf.ncf_singlenode:Epoch 100 [0.99s]: train_loss = 0.000099 \n"
     ]
    },
    {
     "name": "stdout",
     "output_type": "stream",
     "text": [
      "Took 155.05384233299992 seconds for training.\n",
      " \n",
      " \n",
      "--- PREDICTIONS ---\n",
      "--- PREDICTIONS FOR INPUT USER ---\n",
      "Top 10 Recommendations For You:\n",
      "\n",
      "1.'No Podemos - Remix' - Ele A El Dominio\n",
      "2.'Runaway (U & I)' - Galantis\n",
      "3.'Singular' - Orgânico\n",
      "4.'I Want U' - Loosid\n",
      "5.'Dando Saltos' - Métricas Frías\n",
      "6.'Somos Dos' - Bomba Estéreo\n",
      "7.'Lullaby For My Insomniac' - James Blake\n",
      "8.'Roller Coaster' - blink-182\n",
      "9.'If I Could Turn Back Time' - Cher\n",
      "10.'I Wanna Know (feat. Bea Miller)' - NOTD\n",
      " \n",
      "--- GENERIC EVALUATION ---\n",
      "Took 16.423561916999915 seconds for prediction.\n",
      "MAP:\t0.000000\n",
      "NDCG:\t0.000000\n",
      "Precision@K:\t0.000000\n",
      "Recall@K:\t0.000000\n",
      " \n",
      "--- LEAVE-ONE-OUT EVALUATION ---\n",
      "HR:\t0.111842\n",
      "NDCG:\t0.064483\n",
      " \n",
      " \n",
      " \n"
     ]
    }
   ],
   "source": [
    "fact_results = []\n",
    "input_recs = []\n",
    "\n",
    "facts = [3, 6, 9, 12]\n",
    "for Factor_Num in facts:\n",
    "    \n",
    "    print(f'######################### Factor Num: {Factor_Num} #########################################')\n",
    "\n",
    "    fact_result_row = []\n",
    "\n",
    "    # add epoch number\n",
    "    fact_result_row.append(facts)\n",
    "\n",
    "    print('---TRAIN---')\n",
    "    model = NCF(\n",
    "            n_users=data.n_users, \n",
    "            n_items=data.n_items,\n",
    "            model_type=\"NeuMF\",\n",
    "            n_factors=Factor_Num,\n",
    "            layer_sizes=[16,8,4],\n",
    "            n_epochs= 100,\n",
    "            batch_size=BATCH_SIZE,\n",
    "            learning_rate=1e-3,\n",
    "            verbose=10,\n",
    "            seed=SEED\n",
    "        )\n",
    "\n",
    "    with Timer() as train_time:\n",
    "            model.fit(data)\n",
    "            \n",
    "    print(\"Took {} seconds for training.\".format(train_time.interval))\n",
    "\n",
    "    print(' ')\n",
    "\n",
    "    print(' ')\n",
    "\n",
    "    print('--- PREDICTIONS ---')\n",
    "\n",
    "    predictions = [[row.userID, row.itemID, model.predict(row.userID, row.itemID)]\n",
    "            for (_, row) in test.iterrows()]\n",
    "\n",
    "    predictions = pd.DataFrame(predictions, columns=['userID', 'itemID', 'prediction'])\n",
    "\n",
    "    # Group predictions by userID and rank remaining items based on predicted scores\n",
    "    top_k_recs = predictions.groupby('userID').apply(lambda x: x.nlargest(TOP_K, 'prediction')).reset_index(drop=True)\n",
    "\n",
    "    print('--- PREDICTIONS FOR INPUT USER ---')\n",
    "    input_user_id = (len(User_Ref)) - 1 \n",
    "    top_k_user = top_k_recs[(top_k_recs['userID'] == input_user_id)]\n",
    "\n",
    "    row = User_Ref.loc[(User_Ref['userID'] == input_user_id)]\n",
    "\n",
    "    item_list = top_k_user['itemID'].values\n",
    "\n",
    "    input_rec_row = []\n",
    "    input_rec_row.append(Factor_Num)\n",
    "    \n",
    "    i = 1\n",
    "    print('Top 10 Recommendations For You:\\n')\n",
    "    for item in item_list:\n",
    "        rec_info = []\n",
    "        row = Item_Ref.loc[(Item_Ref['itemID'] == item)]\n",
    "\n",
    "        name = row['track_name'].values[0]\n",
    "        artist = row['track_artist'].values[0]\n",
    "        \n",
    "        rec_info.append(name)\n",
    "        rec_info.append(artist)\n",
    "        input_rec_row.append(rec_info)\n",
    "\n",
    "        print(f\"{i}.'{name}' - {artist}\")\n",
    "        i += 1\n",
    "    \n",
    "    input_recs.append(input_rec_row)\n",
    "\n",
    "    print(' ')\n",
    "\n",
    "    print('--- GENERIC EVALUATION ---')\n",
    "    with Timer() as test_time:\n",
    "        users, items, preds = [], [], []\n",
    "        item = list(train.itemID.unique())\n",
    "        for user in train.userID.unique():\n",
    "            user = [user] * len(item) \n",
    "            users.extend(user)\n",
    "            items.extend(item)\n",
    "            preds.extend(list(model.predict(user, item, is_list=True)))\n",
    "\n",
    "        all_predictions = pd.DataFrame(data={\"userID\": users, \"itemID\":items, \"prediction\":preds})\n",
    "\n",
    "        merged = pd.merge(train, all_predictions, on=[\"userID\", \"itemID\"], how=\"outer\")\n",
    "        all_predictions = merged[merged.rating.isnull()].drop('rating', axis=1)\n",
    "\n",
    "    print(\"Took {} seconds for prediction.\".format(test_time.interval))\n",
    "\n",
    "    eval_map = map(test, all_predictions, col_prediction='prediction', k=TOP_K)\n",
    "    eval_ndcg = ndcg_at_k(test, all_predictions, col_prediction='prediction', k=TOP_K)\n",
    "    eval_precision = precision_at_k(test, all_predictions, col_prediction='prediction', k=TOP_K)\n",
    "    eval_recall = recall_at_k(test, all_predictions, col_prediction='prediction', k=TOP_K)\n",
    "\n",
    "    print(\"MAP:\\t%f\" % eval_map,\n",
    "        \"NDCG:\\t%f\" % eval_ndcg,\n",
    "        \"Precision@K:\\t%f\" % eval_precision,\n",
    "        \"Recall@K:\\t%f\" % eval_recall, sep='\\n')\n",
    "\n",
    "    fact_result_row.append(eval_map)\n",
    "    fact_result_row.append(eval_ndcg)\n",
    "    fact_result_row.append(eval_precision)\n",
    "    fact_result_row.append(eval_recall)\n",
    "\n",
    "    print(' ')\n",
    "\n",
    "    print('--- LEAVE-ONE-OUT EVALUATION ---')\n",
    "    k = TOP_K\n",
    "\n",
    "    ndcgs = []\n",
    "    hit_ratio = []\n",
    "\n",
    "    for b in data.test_loader():\n",
    "        user_input, item_input, labels = b\n",
    "        output = model.predict(user_input, item_input, is_list=True)\n",
    "\n",
    "        output = np.squeeze(output)\n",
    "        rank = sum(output >= output[0])\n",
    "        if rank <= k:\n",
    "            ndcgs.append(1 / np.log(rank + 1))\n",
    "            hit_ratio.append(1)\n",
    "        else:\n",
    "            ndcgs.append(0)\n",
    "            hit_ratio.append(0)\n",
    "\n",
    "    eval_ndcg = np.mean(ndcgs)\n",
    "    eval_hr = np.mean(hit_ratio)\n",
    "\n",
    "    print(\"HR:\\t%f\" % eval_hr)\n",
    "    print(\"NDCG:\\t%f\" % eval_ndcg)\n",
    "\n",
    "    fact_result_row.append(eval_ndcg)\n",
    "    fact_result_row.append(eval_hr)\n",
    "\n",
    "    print(' ')\n",
    "      \n",
    "    fact_results.append(fact_result_row)\n",
    "\n",
    "    print(' ')\n",
    "    print(' ')\n"
   ]
  },
  {
   "cell_type": "markdown",
   "metadata": {},
   "source": [
    "### 7. Pre-Trained "
   ]
  },
  {
   "cell_type": "code",
   "execution_count": 24,
   "metadata": {},
   "outputs": [
    {
     "name": "stdout",
     "output_type": "stream",
     "text": [
      "############ Number of Factors: 3 #########\n",
      " \n",
      "--- STORE MLP PARAMETER ---\n"
     ]
    },
    {
     "name": "stderr",
     "output_type": "stream",
     "text": [
      "INFO:recommenders.models.ncf.ncf_singlenode:Epoch 10 [0.72s]: train_loss = 0.693147 \n",
      "INFO:recommenders.models.ncf.ncf_singlenode:Epoch 20 [0.63s]: train_loss = 0.693147 \n",
      "INFO:recommenders.models.ncf.ncf_singlenode:Epoch 30 [0.70s]: train_loss = 0.693147 \n",
      "INFO:recommenders.models.ncf.ncf_singlenode:Epoch 40 [0.59s]: train_loss = 0.693147 \n",
      "INFO:recommenders.models.ncf.ncf_singlenode:Epoch 50 [0.81s]: train_loss = 0.693147 \n",
      "INFO:recommenders.models.ncf.ncf_singlenode:Epoch 60 [0.65s]: train_loss = 0.693147 \n",
      "INFO:recommenders.models.ncf.ncf_singlenode:Epoch 70 [0.87s]: train_loss = 0.693147 \n",
      "INFO:recommenders.models.ncf.ncf_singlenode:Epoch 80 [1.00s]: train_loss = 0.693147 \n",
      "INFO:recommenders.models.ncf.ncf_singlenode:Epoch 90 [0.57s]: train_loss = 0.693147 \n",
      "INFO:recommenders.models.ncf.ncf_singlenode:Epoch 100 [0.66s]: train_loss = 0.693147 \n"
     ]
    },
    {
     "name": "stdout",
     "output_type": "stream",
     "text": [
      "Took 75.58558241599985 seconds for training.\n",
      " \n",
      "--- STORE GMF PARAMETER ---\n"
     ]
    },
    {
     "name": "stderr",
     "output_type": "stream",
     "text": [
      "INFO:recommenders.models.ncf.ncf_singlenode:Epoch 10 [0.90s]: train_loss = 0.058550 \n",
      "INFO:recommenders.models.ncf.ncf_singlenode:Epoch 20 [0.64s]: train_loss = 0.006445 \n",
      "INFO:recommenders.models.ncf.ncf_singlenode:Epoch 30 [0.67s]: train_loss = 0.002518 \n",
      "INFO:recommenders.models.ncf.ncf_singlenode:Epoch 40 [0.77s]: train_loss = 0.001586 \n",
      "INFO:recommenders.models.ncf.ncf_singlenode:Epoch 50 [0.75s]: train_loss = 0.001196 \n",
      "INFO:recommenders.models.ncf.ncf_singlenode:Epoch 60 [0.59s]: train_loss = 0.001068 \n",
      "INFO:recommenders.models.ncf.ncf_singlenode:Epoch 70 [0.56s]: train_loss = 0.000973 \n",
      "INFO:recommenders.models.ncf.ncf_singlenode:Epoch 80 [0.69s]: train_loss = 0.000824 \n",
      "INFO:recommenders.models.ncf.ncf_singlenode:Epoch 90 [1.11s]: train_loss = 0.000699 \n",
      "INFO:recommenders.models.ncf.ncf_singlenode:Epoch 100 [0.67s]: train_loss = 0.000616 \n"
     ]
    },
    {
     "name": "stdout",
     "output_type": "stream",
     "text": [
      "Took 77.28852204199984 seconds for training.\n"
     ]
    },
    {
     "name": "stderr",
     "output_type": "stream",
     "text": [
      "INFO:recommenders.models.ncf.ncf_singlenode:Epoch 10 [0.66s]: train_loss = 0.000451 \n",
      "INFO:recommenders.models.ncf.ncf_singlenode:Epoch 20 [0.94s]: train_loss = 0.000327 \n",
      "INFO:recommenders.models.ncf.ncf_singlenode:Epoch 30 [0.85s]: train_loss = 0.000255 \n",
      "INFO:recommenders.models.ncf.ncf_singlenode:Epoch 40 [0.59s]: train_loss = 0.000120 \n",
      "INFO:recommenders.models.ncf.ncf_singlenode:Epoch 50 [0.65s]: train_loss = 0.000087 \n",
      "INFO:recommenders.models.ncf.ncf_singlenode:Epoch 60 [0.64s]: train_loss = 0.000036 \n",
      "INFO:recommenders.models.ncf.ncf_singlenode:Epoch 70 [0.63s]: train_loss = 0.000114 \n",
      "INFO:recommenders.models.ncf.ncf_singlenode:Epoch 80 [0.56s]: train_loss = 0.000015 \n",
      "INFO:recommenders.models.ncf.ncf_singlenode:Epoch 90 [0.55s]: train_loss = 0.000012 \n",
      "INFO:recommenders.models.ncf.ncf_singlenode:Epoch 100 [0.53s]: train_loss = 0.000053 \n"
     ]
    },
    {
     "name": "stdout",
     "output_type": "stream",
     "text": [
      "Took 67.64601195799969 seconds for training.\n",
      " \n",
      "--- GENERIC EVALUATION ---\n",
      "Took 8.856657249999898 seconds for prediction.\n",
      "MAP:\t0.000548\n",
      "NDCG:\t0.001008\n",
      "Precision@K:\t0.000329\n",
      "Recall@K:\t0.001645\n",
      "############ Number of Factors: 6 #########\n",
      " \n",
      "--- STORE MLP PARAMETER ---\n"
     ]
    },
    {
     "name": "stderr",
     "output_type": "stream",
     "text": [
      "INFO:recommenders.models.ncf.ncf_singlenode:Epoch 10 [0.57s]: train_loss = 0.693147 \n",
      "INFO:recommenders.models.ncf.ncf_singlenode:Epoch 20 [0.60s]: train_loss = 0.693147 \n",
      "INFO:recommenders.models.ncf.ncf_singlenode:Epoch 30 [0.55s]: train_loss = 0.693147 \n",
      "INFO:recommenders.models.ncf.ncf_singlenode:Epoch 40 [0.59s]: train_loss = 0.693147 \n",
      "INFO:recommenders.models.ncf.ncf_singlenode:Epoch 50 [0.73s]: train_loss = 0.693147 \n",
      "INFO:recommenders.models.ncf.ncf_singlenode:Epoch 60 [0.58s]: train_loss = 0.693147 \n",
      "INFO:recommenders.models.ncf.ncf_singlenode:Epoch 70 [0.70s]: train_loss = 0.693147 \n",
      "INFO:recommenders.models.ncf.ncf_singlenode:Epoch 80 [0.63s]: train_loss = 0.693147 \n",
      "INFO:recommenders.models.ncf.ncf_singlenode:Epoch 90 [0.61s]: train_loss = 0.693147 \n",
      "INFO:recommenders.models.ncf.ncf_singlenode:Epoch 100 [1.01s]: train_loss = 0.693147 \n"
     ]
    },
    {
     "name": "stdout",
     "output_type": "stream",
     "text": [
      "Took 73.48221629099999 seconds for training.\n",
      " \n",
      "--- STORE GMF PARAMETER ---\n"
     ]
    },
    {
     "name": "stderr",
     "output_type": "stream",
     "text": [
      "INFO:recommenders.models.ncf.ncf_singlenode:Epoch 10 [1.37s]: train_loss = 0.027763 \n",
      "INFO:recommenders.models.ncf.ncf_singlenode:Epoch 20 [1.47s]: train_loss = 0.003905 \n",
      "INFO:recommenders.models.ncf.ncf_singlenode:Epoch 30 [1.83s]: train_loss = 0.001856 \n",
      "INFO:recommenders.models.ncf.ncf_singlenode:Epoch 40 [1.27s]: train_loss = 0.001313 \n",
      "INFO:recommenders.models.ncf.ncf_singlenode:Epoch 50 [1.11s]: train_loss = 0.001189 \n",
      "INFO:recommenders.models.ncf.ncf_singlenode:Epoch 60 [1.84s]: train_loss = 0.000991 \n",
      "INFO:recommenders.models.ncf.ncf_singlenode:Epoch 70 [1.13s]: train_loss = 0.000857 \n",
      "INFO:recommenders.models.ncf.ncf_singlenode:Epoch 80 [0.67s]: train_loss = 0.000664 \n",
      "INFO:recommenders.models.ncf.ncf_singlenode:Epoch 90 [0.60s]: train_loss = 0.000460 \n",
      "INFO:recommenders.models.ncf.ncf_singlenode:Epoch 100 [0.93s]: train_loss = 0.000261 \n"
     ]
    },
    {
     "name": "stdout",
     "output_type": "stream",
     "text": [
      "Took 181.60846408299994 seconds for training.\n"
     ]
    },
    {
     "name": "stderr",
     "output_type": "stream",
     "text": [
      "INFO:recommenders.models.ncf.ncf_singlenode:Epoch 10 [0.90s]: train_loss = 0.000125 \n",
      "INFO:recommenders.models.ncf.ncf_singlenode:Epoch 20 [1.22s]: train_loss = 0.000057 \n",
      "INFO:recommenders.models.ncf.ncf_singlenode:Epoch 30 [1.55s]: train_loss = 0.000027 \n",
      "INFO:recommenders.models.ncf.ncf_singlenode:Epoch 40 [0.96s]: train_loss = 0.000021 \n",
      "INFO:recommenders.models.ncf.ncf_singlenode:Epoch 50 [1.01s]: train_loss = 0.000059 \n",
      "INFO:recommenders.models.ncf.ncf_singlenode:Epoch 60 [1.43s]: train_loss = 0.000008 \n",
      "INFO:recommenders.models.ncf.ncf_singlenode:Epoch 70 [0.65s]: train_loss = 0.000004 \n",
      "INFO:recommenders.models.ncf.ncf_singlenode:Epoch 80 [0.64s]: train_loss = 0.000002 \n",
      "INFO:recommenders.models.ncf.ncf_singlenode:Epoch 90 [0.66s]: train_loss = 0.000301 \n",
      "INFO:recommenders.models.ncf.ncf_singlenode:Epoch 100 [0.60s]: train_loss = 0.000002 \n"
     ]
    },
    {
     "name": "stdout",
     "output_type": "stream",
     "text": [
      "Took 77.5754040830002 seconds for training.\n",
      " \n",
      "--- GENERIC EVALUATION ---\n",
      "Took 10.279999792000126 seconds for prediction.\n",
      "MAP:\t0.000548\n",
      "NDCG:\t0.001008\n",
      "Precision@K:\t0.000329\n",
      "Recall@K:\t0.001645\n",
      "############ Number of Factors: 9 #########\n",
      " \n",
      "--- STORE MLP PARAMETER ---\n"
     ]
    },
    {
     "name": "stderr",
     "output_type": "stream",
     "text": [
      "INFO:recommenders.models.ncf.ncf_singlenode:Epoch 10 [0.72s]: train_loss = 0.693147 \n",
      "INFO:recommenders.models.ncf.ncf_singlenode:Epoch 20 [0.70s]: train_loss = 0.693147 \n",
      "INFO:recommenders.models.ncf.ncf_singlenode:Epoch 30 [0.69s]: train_loss = 0.693147 \n",
      "INFO:recommenders.models.ncf.ncf_singlenode:Epoch 40 [0.84s]: train_loss = 0.693147 \n",
      "INFO:recommenders.models.ncf.ncf_singlenode:Epoch 50 [0.67s]: train_loss = 0.693147 \n",
      "INFO:recommenders.models.ncf.ncf_singlenode:Epoch 60 [0.64s]: train_loss = 0.693147 \n",
      "INFO:recommenders.models.ncf.ncf_singlenode:Epoch 70 [0.53s]: train_loss = 0.693147 \n",
      "INFO:recommenders.models.ncf.ncf_singlenode:Epoch 80 [0.81s]: train_loss = 0.693147 \n",
      "INFO:recommenders.models.ncf.ncf_singlenode:Epoch 90 [0.95s]: train_loss = 0.693147 \n",
      "INFO:recommenders.models.ncf.ncf_singlenode:Epoch 100 [0.68s]: train_loss = 0.693147 \n"
     ]
    },
    {
     "name": "stdout",
     "output_type": "stream",
     "text": [
      "Took 77.09962966700004 seconds for training.\n",
      " \n",
      "--- STORE GMF PARAMETER ---\n"
     ]
    },
    {
     "name": "stderr",
     "output_type": "stream",
     "text": [
      "INFO:recommenders.models.ncf.ncf_singlenode:Epoch 10 [0.62s]: train_loss = 0.018213 \n",
      "INFO:recommenders.models.ncf.ncf_singlenode:Epoch 20 [0.68s]: train_loss = 0.003097 \n",
      "INFO:recommenders.models.ncf.ncf_singlenode:Epoch 30 [0.76s]: train_loss = 0.001674 \n",
      "INFO:recommenders.models.ncf.ncf_singlenode:Epoch 40 [0.78s]: train_loss = 0.001223 \n",
      "INFO:recommenders.models.ncf.ncf_singlenode:Epoch 50 [0.58s]: train_loss = 0.001017 \n",
      "INFO:recommenders.models.ncf.ncf_singlenode:Epoch 60 [0.55s]: train_loss = 0.000839 \n",
      "INFO:recommenders.models.ncf.ncf_singlenode:Epoch 70 [0.68s]: train_loss = 0.000631 \n",
      "INFO:recommenders.models.ncf.ncf_singlenode:Epoch 80 [0.68s]: train_loss = 0.000349 \n",
      "INFO:recommenders.models.ncf.ncf_singlenode:Epoch 90 [0.57s]: train_loss = 0.000214 \n",
      "INFO:recommenders.models.ncf.ncf_singlenode:Epoch 100 [0.95s]: train_loss = 0.000075 \n"
     ]
    },
    {
     "name": "stdout",
     "output_type": "stream",
     "text": [
      "Took 76.23368224999967 seconds for training.\n"
     ]
    },
    {
     "name": "stderr",
     "output_type": "stream",
     "text": [
      "INFO:recommenders.models.ncf.ncf_singlenode:Epoch 10 [0.67s]: train_loss = 0.000081 \n",
      "INFO:recommenders.models.ncf.ncf_singlenode:Epoch 20 [0.76s]: train_loss = 0.000017 \n",
      "INFO:recommenders.models.ncf.ncf_singlenode:Epoch 30 [0.89s]: train_loss = 0.000038 \n",
      "INFO:recommenders.models.ncf.ncf_singlenode:Epoch 40 [0.58s]: train_loss = 0.000036 \n",
      "INFO:recommenders.models.ncf.ncf_singlenode:Epoch 50 [0.73s]: train_loss = 0.000038 \n",
      "INFO:recommenders.models.ncf.ncf_singlenode:Epoch 60 [0.61s]: train_loss = 0.000003 \n",
      "INFO:recommenders.models.ncf.ncf_singlenode:Epoch 70 [0.58s]: train_loss = 0.000002 \n",
      "INFO:recommenders.models.ncf.ncf_singlenode:Epoch 80 [1.23s]: train_loss = 0.000009 \n",
      "INFO:recommenders.models.ncf.ncf_singlenode:Epoch 90 [1.20s]: train_loss = 0.000002 \n",
      "INFO:recommenders.models.ncf.ncf_singlenode:Epoch 100 [0.83s]: train_loss = 0.000005 \n"
     ]
    },
    {
     "name": "stdout",
     "output_type": "stream",
     "text": [
      "Took 74.51152920899995 seconds for training.\n",
      " \n",
      "--- GENERIC EVALUATION ---\n",
      "Took 10.16603883300013 seconds for prediction.\n",
      "MAP:\t0.000329\n",
      "NDCG:\t0.000780\n",
      "Precision@K:\t0.000329\n",
      "Recall@K:\t0.001645\n",
      "############ Number of Factors: 12 #########\n",
      " \n",
      "--- STORE MLP PARAMETER ---\n"
     ]
    },
    {
     "name": "stderr",
     "output_type": "stream",
     "text": [
      "INFO:recommenders.models.ncf.ncf_singlenode:Epoch 10 [0.74s]: train_loss = 0.693147 \n",
      "INFO:recommenders.models.ncf.ncf_singlenode:Epoch 20 [0.68s]: train_loss = 0.693147 \n",
      "INFO:recommenders.models.ncf.ncf_singlenode:Epoch 30 [0.58s]: train_loss = 0.693147 \n",
      "INFO:recommenders.models.ncf.ncf_singlenode:Epoch 40 [0.62s]: train_loss = 0.693147 \n",
      "INFO:recommenders.models.ncf.ncf_singlenode:Epoch 50 [0.99s]: train_loss = 0.693147 \n",
      "INFO:recommenders.models.ncf.ncf_singlenode:Epoch 60 [0.62s]: train_loss = 0.693147 \n",
      "INFO:recommenders.models.ncf.ncf_singlenode:Epoch 70 [0.55s]: train_loss = 0.693147 \n",
      "INFO:recommenders.models.ncf.ncf_singlenode:Epoch 80 [0.97s]: train_loss = 0.693147 \n",
      "INFO:recommenders.models.ncf.ncf_singlenode:Epoch 90 [0.76s]: train_loss = 0.693147 \n",
      "INFO:recommenders.models.ncf.ncf_singlenode:Epoch 100 [0.59s]: train_loss = 0.693147 \n"
     ]
    },
    {
     "name": "stdout",
     "output_type": "stream",
     "text": [
      "Took 76.23101399999996 seconds for training.\n",
      " \n",
      "--- STORE GMF PARAMETER ---\n"
     ]
    },
    {
     "name": "stderr",
     "output_type": "stream",
     "text": [
      "INFO:recommenders.models.ncf.ncf_singlenode:Epoch 10 [0.75s]: train_loss = 0.013879 \n",
      "INFO:recommenders.models.ncf.ncf_singlenode:Epoch 20 [0.61s]: train_loss = 0.002598 \n",
      "INFO:recommenders.models.ncf.ncf_singlenode:Epoch 30 [0.71s]: train_loss = 0.001524 \n",
      "INFO:recommenders.models.ncf.ncf_singlenode:Epoch 40 [0.81s]: train_loss = 0.001139 \n",
      "INFO:recommenders.models.ncf.ncf_singlenode:Epoch 50 [1.74s]: train_loss = 0.000877 \n",
      "INFO:recommenders.models.ncf.ncf_singlenode:Epoch 60 [0.93s]: train_loss = 0.000580 \n",
      "INFO:recommenders.models.ncf.ncf_singlenode:Epoch 70 [0.90s]: train_loss = 0.000345 \n",
      "INFO:recommenders.models.ncf.ncf_singlenode:Epoch 80 [0.71s]: train_loss = 0.000139 \n",
      "INFO:recommenders.models.ncf.ncf_singlenode:Epoch 90 [0.60s]: train_loss = 0.000074 \n",
      "INFO:recommenders.models.ncf.ncf_singlenode:Epoch 100 [1.41s]: train_loss = 0.000022 \n"
     ]
    },
    {
     "name": "stdout",
     "output_type": "stream",
     "text": [
      "Took 87.00261508299991 seconds for training.\n"
     ]
    },
    {
     "name": "stderr",
     "output_type": "stream",
     "text": [
      "INFO:recommenders.models.ncf.ncf_singlenode:Epoch 10 [0.97s]: train_loss = 0.000009 \n",
      "INFO:recommenders.models.ncf.ncf_singlenode:Epoch 20 [0.65s]: train_loss = 0.000005 \n",
      "INFO:recommenders.models.ncf.ncf_singlenode:Epoch 30 [1.01s]: train_loss = 0.000048 \n",
      "INFO:recommenders.models.ncf.ncf_singlenode:Epoch 40 [0.60s]: train_loss = 0.000058 \n",
      "INFO:recommenders.models.ncf.ncf_singlenode:Epoch 50 [0.69s]: train_loss = 0.000020 \n",
      "INFO:recommenders.models.ncf.ncf_singlenode:Epoch 60 [0.90s]: train_loss = 0.000001 \n",
      "INFO:recommenders.models.ncf.ncf_singlenode:Epoch 70 [0.77s]: train_loss = 0.000001 \n",
      "INFO:recommenders.models.ncf.ncf_singlenode:Epoch 80 [0.66s]: train_loss = 0.000006 \n",
      "INFO:recommenders.models.ncf.ncf_singlenode:Epoch 90 [0.91s]: train_loss = 0.000012 \n",
      "INFO:recommenders.models.ncf.ncf_singlenode:Epoch 100 [1.16s]: train_loss = 0.000034 \n"
     ]
    },
    {
     "name": "stdout",
     "output_type": "stream",
     "text": [
      "Took 81.1226073329999 seconds for training.\n",
      " \n",
      "--- GENERIC EVALUATION ---\n",
      "Took 9.344234250000227 seconds for prediction.\n",
      "MAP:\t0.000274\n",
      "NDCG:\t0.000718\n",
      "Precision@K:\t0.000329\n",
      "Recall@K:\t0.001645\n"
     ]
    }
   ],
   "source": [
    "fact_results_pretrained = []\n",
    "input_recs = []\n",
    "\n",
    "facts = [3, 6, 9, 12]\n",
    "\n",
    "for Factor_Num in facts:\n",
    "\n",
    "    print(f'############ Number of Factors: {Factor_Num} #########')\n",
    "\n",
    "    fact_result_row = []\n",
    "\n",
    "    print(' ')\n",
    "\n",
    "    print('--- STORE MLP PARAMETER ---')\n",
    "    model = NCF(\n",
    "        n_users=data.n_users, \n",
    "        n_items=data.n_items,\n",
    "        model_type=\"MLP\",\n",
    "        n_factors=Factor_Num,\n",
    "        layer_sizes=[16,8,4],\n",
    "        n_epochs=EPOCHS,\n",
    "        batch_size=BATCH_SIZE,\n",
    "        learning_rate=1e-3,\n",
    "        verbose=10,\n",
    "        seed=SEED\n",
    "    )\n",
    "\n",
    "    with Timer() as train_time:\n",
    "        model.fit(data)\n",
    "\n",
    "    print(\"Took {} seconds for training.\".format(train_time.interval))\n",
    "\n",
    "    model.save(dir_name=\".pretrain_fact/MLP\")\n",
    "\n",
    "    print(' ')\n",
    "\n",
    "    print('--- STORE GMF PARAMETER ---')\n",
    "    model = NCF(\n",
    "        n_users=data.n_users, \n",
    "        n_items=data.n_items,\n",
    "        model_type=\"GMF\",\n",
    "        n_factors=Factor_Num,\n",
    "        layer_sizes=[16,8,4],\n",
    "        n_epochs=EPOCHS,\n",
    "        batch_size=BATCH_SIZE,\n",
    "        learning_rate=1e-3,\n",
    "        verbose=10,\n",
    "        seed=SEED\n",
    "    )\n",
    "\n",
    "    with Timer() as train_time:\n",
    "        model.fit(data)\n",
    "\n",
    "    print(\"Took {} seconds for training.\".format(train_time.interval))\n",
    "\n",
    "    model.save(dir_name=\".pretrain_fact/GMF\")\n",
    "\n",
    "    with Timer() as train_time:\n",
    "            model.fit(data)\n",
    "\n",
    "    print(\"Took {} seconds for training.\".format(train_time.interval))\n",
    "\n",
    "    print(' ')\n",
    "\n",
    "    print('--- GENERIC EVALUATION ---')\n",
    "    with Timer() as test_time:\n",
    "\n",
    "        users, items, preds = [], [], []\n",
    "        item = list(train.itemID.unique())\n",
    "        for user in train.userID.unique():\n",
    "            user = [user] * len(item) \n",
    "            users.extend(user)\n",
    "            items.extend(item)\n",
    "            preds.extend(list(model.predict(user, item, is_list=True)))\n",
    "\n",
    "        all_predictions = pd.DataFrame(data={\"userID\": users, \"itemID\":items, \"prediction\":preds})\n",
    "\n",
    "        merged = pd.merge(train, all_predictions, on=[\"userID\", \"itemID\"], how=\"outer\")\n",
    "        all_predictions = merged[merged.rating.isnull()].drop('rating', axis=1)\n",
    "\n",
    "    print(\"Took {} seconds for prediction.\".format(test_time.interval))\n",
    "    eval_map2 = map(test, all_predictions, col_prediction='prediction', k=TOP_K)\n",
    "    eval_ndcg2 = ndcg_at_k(test, all_predictions, col_prediction='prediction', k=TOP_K)\n",
    "    eval_precision2 = precision_at_k(test, all_predictions, col_prediction='prediction', k=TOP_K)\n",
    "    eval_recall2 = recall_at_k(test, all_predictions, col_prediction='prediction', k=TOP_K)\n",
    "\n",
    "    print(\"MAP:\\t%f\" % eval_map2,\n",
    "        \"NDCG:\\t%f\" % eval_ndcg2,\n",
    "        \"Precision@K:\\t%f\" % eval_precision2,\n",
    "        \"Recall@K:\\t%f\" % eval_recall2, sep='\\n')\n",
    "\n",
    "    fact_result_row.append(eval_map2)\n",
    "    fact_result_row.append(eval_ndcg2)\n",
    "    fact_result_row.append(eval_precision2)\n",
    "    fact_result_row.append(eval_recall2)\n",
    "\n",
    "    fact_results_pretrained.append(fact_result_row)\n",
    "\n"
   ]
  },
  {
   "cell_type": "markdown",
   "metadata": {},
   "source": [
    "### 8. Visualizations"
   ]
  },
  {
   "cell_type": "code",
   "execution_count": 31,
   "metadata": {},
   "outputs": [],
   "source": [
    "header = ['Factor Count', 'GE MAP', 'GE NDCG', 'GE PrecK', 'GE RecK', 'LOO HR', 'LOO NDCG',]\n",
    "\n",
    "filename = 'fact_results.csv'\n",
    "\n",
    "with open(filename, 'w') as file:\n",
    "    for header in header:\n",
    "        file.write(str(header)+', ')\n",
    "    file.write('\\n')\n",
    "\n",
    "    \n",
    "    for row in fact_results:\n",
    "        for x in row:\n",
    "            file.write(str(x) + ', ')\n",
    "        file.write('\\n')"
   ]
  },
  {
   "cell_type": "code",
   "execution_count": 32,
   "metadata": {},
   "outputs": [],
   "source": [
    "header = ['Factor Count', 'PTGE MAP', 'PTGE NDCG', 'PTGE PrecK', 'PTGE RecK']\n",
    "\n",
    "filename = 'fact_results_pretrained.csv'\n",
    "\n",
    "with open(filename, 'w') as file:\n",
    "    for header in header:\n",
    "        file.write(str(header)+', ')\n",
    "    file.write('\\n')\n",
    "\n",
    "    \n",
    "    for row in fact_results_pretrained:\n",
    "        for x in row:\n",
    "            file.write(str(x) + ', ')\n",
    "        file.write('\\n')"
   ]
  },
  {
   "cell_type": "code",
   "execution_count": 45,
   "metadata": {},
   "outputs": [
    {
     "data": {
      "image/png": "[encoded data removed]",
      "text/plain": [
       "<Figure size 1000x1000 with 3 Axes>"
      ]
     },
     "metadata": {},
     "output_type": "display_data"
    }
   ],
   "source": [
    "facts_df = pd.read_csv(\"fact_results.csv\") \n",
    "pt_facts_df = pd.read_csv(\"fact_results_pretrained.csv\") \n",
    "\n",
    "\n",
    "facts_df_rs = facts_df.reset_index()\n",
    "\n",
    "# Set up the plot\n",
    "fig, axes = plt.subplots(nrows=3, ncols=1, figsize=(10, 10))\n",
    "\n",
    "# Plot using Seaborn lineplot\n",
    "sns.lineplot(data=facts_df_rs[[' GE MAP',' GE NDCG',' GE PrecK',' GE RecK']], dashes=False, ax=axes[0])\n",
    "axes[0].set_title('Metrics over Factor Number')\n",
    "axes[0].set_xlabel('Fact Count')\n",
    "axes[0].set_ylabel('Metric Value')\n",
    "axes[0].legend()\n",
    "\n",
    "# Plot using Seaborn lineplot\n",
    "sns.lineplot(data=facts_df_rs[[' LOO HR', ' LOO NDCG']], dashes=False, ax=axes[1])\n",
    "axes[1].set_title('LOO Metrics over Factor Number')\n",
    "axes[1].set_xlabel('Fact Count')\n",
    "axes[1].set_ylabel('LOO Metric Value')\n",
    "axes[1].legend()\n",
    "\n",
    "\n",
    "pt_facts_df_rs = pt_facts_df.reset_index()\n",
    "# Plot using Seaborn lineplot\n",
    "sns.lineplot(data=pt_facts_df[[' PTGE MAP', ' PTGE NDCG', ' PTGE PrecK', ' PTGE RecK']], dashes=False, ax=axes[2])\n",
    "axes[2].set_title('PT Metrics over Factor Number')\n",
    "axes[2].set_xlabel('Fact Count')\n",
    "axes[2].set_ylabel('PT Metric Value')\n",
    "axes[2].legend()\n",
    "\n",
    "\n",
    "# Adjust layout\n",
    "plt.tight_layout()\n",
    "\n",
    "# Show plot\n",
    "plt.show()"
   ]
  }
 ],
 "metadata": {
  "kernelspec": {
   "display_name": "Python 3",
   "language": "python",
   "name": "python3"
  },
  "language_info": {
   "codemirror_mode": {
    "name": "ipython",
    "version": 3
   },
   "file_extension": ".py",
   "mimetype": "text/x-python",
   "name": "python",
   "nbconvert_exporter": "python",
   "pygments_lexer": "ipython3",
   "version": "3.9.18"
  }
 },
 "nbformat": 4,
 "nbformat_minor": 2
}
